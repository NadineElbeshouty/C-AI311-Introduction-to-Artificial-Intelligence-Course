{
  "nbformat": 4,
  "nbformat_minor": 0,
  "metadata": {
    "colab": {
      "provenance": []
    },
    "kernelspec": {
      "name": "python3",
      "display_name": "Python 3"
    },
    "language_info": {
      "name": "python"
    }
  },
  "cells": [
    {
      "cell_type": "markdown",
      "metadata": {
        "id": "F7FzI2o-8Trc"
      },
      "source": [
        "# Local Search\n",
        "\n",
        "For some problems, the path from the initial state to the solution is not that important. What matters is the goal state! For such problems, we may be able to do better that the systematic state-space exploration of the *classical* search algorithms. Local search algorithms try to take advantage of that and that enables them to achieve VERY low (sometimes constant) memory requirements for even the biggest problems!"
      ]
    },
    {
      "cell_type": "markdown",
      "source": [
        "###This notbook is for implementing both Hill Climbing Algorithm and Simulated Annealing in Python\n",
        "\n",
        "Simulated annealing and hill climbing are both optimization algorithms, but they have some key differences in their approaches.\n",
        "\n",
        "Hill Climbing:\n",
        "- Hill climbing is a local search algorithm that starts from an initial solution and iteratively makes small adjustments to improve the solution.\n",
        "- The algorithm explores the neighboring solutions and selects the best one that improves the objective function value.\n",
        "- If the best neighbor has a better objective function value than the current solution, the algorithm moves to that neighbor and continues the search from there.\n",
        "- Hill climbing terminates when it reaches a local maximum, where no neighboring solution has a better objective function value, and it gets stuck in that local optimum.\n",
        "- Hill climbing does not consider worse solutions and does not have a probabilistic acceptance criterion.\n",
        "\n",
        "Simulated Annealing:\n",
        "- Simulated annealing is a global optimization algorithm inspired by the annealing process in metallurgy.\n",
        "- It starts from an initial solution and iteratively explores neighboring solutions, similar to hill climbing.\n",
        "- However, simulated annealing also allows for accepting worse solutions in order to escape local optima and explore the search space more extensively.\n",
        "- The algorithm uses a temperature parameter that controls the probability of accepting worse solutions. As the temperature decreases, the acceptance probability decreases, and the algorithm becomes more selective.\n",
        "- Initially, it accepts worse solutions more frequently to explore the search space broadly, but as the temperature decreases, it becomes more focused on improving the objective function value.\n",
        "- Simulated annealing gradually reduces the temperature over time according to a cooling schedule, which determines the rate at which the algorithm explores and intensifies the search.\n",
        "- The algorithm terminates when the temperature becomes sufficiently low or after a fixed number of iterations.\n",
        "\n",
        "In summary, hill climbing focuses on finding the best solution in the local neighborhood, while simulated annealing allows for escaping local optima and exploring a broader search space by accepting worse solutions probabilistically. Simulated annealing is more suitable for global optimization problems where finding the global optimum is desired, while hill climbing tends to find local optima more efficiently.\n"
      ],
      "metadata": {
        "id": "91TPJyn2ARb1"
      }
    },
    {
      "cell_type": "markdown",
      "source": [
        "### A step-by-step tutorial on how to make Hill Climbing solve the Travelling salesman problem\n",
        "\n",
        "Hill climbing is a mathematical optimization algorithm, which means its purpose is to find the best solution to a problem which has a (large) number of possible solutions. Explaining the algorithm (and optimization in general) is best done using an example. In the Travelling salesman problem, we have a salesman who needs to visit a number of cities exactly once, after which he returns to the first city. The distances between each pair of cities are known, and we need to find the shortest route. As you can imagine, there is (often) a large number of possible solutions (routes) to a specific Travelling salesman problem; the goal is to find the best (i.e. the shortest) solution"
      ],
      "metadata": {
        "id": "eqDxpB6CvLHs"
      }
    },
    {
      "cell_type": "markdown",
      "source": [
        "Hill climbing tries to find the best solution to this problem by starting out with a random solution, and then generate neighbours: solutions that only slightly differ from the current one. If the best of those neighbours is better (i.e. shorter) than the current one, it replaces the current solution with this better solution. It then repeats the pattern by again creating neighbours. If at some point no neighbour is better than the current solution, it returns the then current solution. That’s it!"
      ],
      "metadata": {
        "id": "LkL7RQvi3PE9"
      }
    },
    {
      "cell_type": "code",
      "execution_count": 1,
      "metadata": {
        "id": "axOm7k6j5A_b"
      },
      "outputs": [],
      "source": [
        "import random\n",
        "import numpy as np\n",
        "import networkx as nx"
      ]
    },
    {
      "cell_type": "code",
      "source": [
        "#coordinate of the points/cities\n",
        "coordinate = np.array([[1,2], [30,21], [56,23], [8,18], [20,50], [3,4], [11,6], [6,7], [15,20], [10,9], [12,12]])\n",
        "\n",
        "#adjacency matrix for a weighted graph based on the given coordinates\n",
        "def generate_matrix(coordinate):\n",
        "    matrix = []\n",
        "    for i in range(len(coordinate)):\n",
        "        for j in range(len(coordinate)) :\n",
        "            p = np.linalg.norm(coordinate[i] - coordinate[j]) #returns one of eight different matrix norms\n",
        "            matrix.append(p)\n",
        "    matrix = np.reshape(matrix, (len(coordinate),len(coordinate)))\n",
        "    #print(matrix)\n",
        "    return matrix\n",
        "\n",
        "#finds a random solution\n",
        "def solution(matrix):\n",
        "    points = list(range(0, len(matrix)))\n",
        "    solution = []\n",
        "    for i in range(0, len(matrix)):\n",
        "        random_point = points[random.randint(0, len(points) - 1)]\n",
        "        solution.append(random_point)\n",
        "        points.remove(random_point)\n",
        "    return solution\n",
        "\n",
        "\n",
        "#calculate the path based on the random solution\n",
        "def path_length(matrix, solution):\n",
        "    cycle_length = 0\n",
        "    for i in range(0, len(solution)):\n",
        "        cycle_length += matrix[solution[i]][solution[i - 1]]\n",
        "    return cycle_length\n",
        "\n",
        "#generate neighbors of the random solution by swapping cities and returns the best neighbor\n",
        "def neighbors(matrix, solution):\n",
        "    neighbors = []\n",
        "    for i in range(len(solution)):\n",
        "        for j in range(i + 1, len(solution)):\n",
        "            neighbor = solution.copy()\n",
        "            neighbor[i] = solution[j]\n",
        "            neighbor[j] = solution[i]\n",
        "            neighbors.append(neighbor)\n",
        "\n",
        "    #assume that the first neighbor in the list is the best neighbor\n",
        "    best_neighbor = neighbors[0]\n",
        "    best_path = path_length(matrix, best_neighbor)\n",
        "\n",
        "    #check if there is a better neighbor\n",
        "    for neighbor in neighbors:\n",
        "        current_path = path_length(matrix, neighbor)\n",
        "        if current_path < best_path:\n",
        "            best_path = current_path\n",
        "            best_neighbor = neighbor\n",
        "    return best_neighbor, best_path\n",
        "\n",
        "\n",
        "def hill_climbing(coordinate):\n",
        "    matrix = generate_matrix(coordinate)\n",
        "\n",
        "    current_solution = solution(matrix)\n",
        "    current_path = path_length(matrix, current_solution)\n",
        "    neighbor = neighbors(matrix,current_solution)[0]\n",
        "    best_neighbor, best_neighbor_path = neighbors(matrix, neighbor)\n",
        "\n",
        "    while best_neighbor_path < current_path:\n",
        "        current_solution = best_neighbor\n",
        "        current_path = best_neighbor_path\n",
        "        neighbor = neighbors(matrix, current_solution)[0]\n",
        "        best_neighbor, best_neighbor_path = neighbors(matrix, neighbor)\n",
        "\n",
        "    return current_path, current_solution\n",
        "final_solution = hill_climbing(coordinate)\n",
        "print(\"The solution is \\n\", final_solution[1])"
      ],
      "metadata": {
        "colab": {
          "base_uri": "https://localhost:8080/"
        },
        "id": "H4mzLDl95EXz",
        "outputId": "3ac54163-0d50-4b88-f47c-d73a4eb2f0d7"
      },
      "execution_count": 2,
      "outputs": [
        {
          "output_type": "stream",
          "name": "stdout",
          "text": [
            "The solution is \n",
            " [1, 8, 10, 9, 6, 0, 5, 7, 3, 4, 2]\n"
          ]
        }
      ]
    },
    {
      "cell_type": "markdown",
      "source": [
        "a solution to the Travelling salesman problem could simply be a list of identifiers of all cities, in the order the salesman should visit them. Each city has to be visited exactly once.\n",
        "\n",
        "Since every city can only be visited one, after its identifier is added to our solution we then remove that city’s identifier from the city identifier list. Our function needs the Travelling salesman problem itself for information about the distances between cities. See the code below (note that you will need to import random for this to work):"
      ],
      "metadata": {
        "id": "fJH_OJ6038pM"
      }
    },
    {
      "cell_type": "code",
      "source": [
        "def randomSolution(tsp):\n",
        "    cities = list(range(len(tsp)))\n",
        "    solution = []\n",
        "\n",
        "    for i in range(len(tsp)):\n",
        "        randomCity = cities[random.randint(0, len(cities) - 1)]\n",
        "        solution.append(randomCity)\n",
        "        cities.remove(randomCity)\n",
        "\n",
        "    return solution"
      ],
      "metadata": {
        "id": "jVz6Yf1W3-5W"
      },
      "execution_count": 3,
      "outputs": []
    },
    {
      "cell_type": "markdown",
      "source": [
        "we need a function calculating the length of a specific solution. This function needs the Travelling salesman problem itself (for information about the distances between cities) and of course the solution of which we need the route length. Since a solution is a list of all cities in a specific order, we can just iterate over a solution and use the tsp argument to add the distance to each new city to our total route length. The iterator i “visits” each city, so i-1 is “at” the previous city or the last city when i equals 0 (which is exactly what we want, since we want to end up at the first city again). solution[i] thus gives us the current city, and solution[i-1] gives us the previous one. Then we simply use the tsp to get the distance between these cities, which we add to the total length of the route (routeLength)."
      ],
      "metadata": {
        "id": "akJH6cWy4OR-"
      }
    },
    {
      "cell_type": "code",
      "source": [
        "def routeLength(tsp, solution):\n",
        "    routeLength = 0\n",
        "    for i in range(len(solution)):\n",
        "        routeLength += tsp[solution[i - 1]][solution[i]]\n",
        "    return routeLength"
      ],
      "metadata": {
        "id": "H6zy-_754O4X"
      },
      "execution_count": 4,
      "outputs": []
    },
    {
      "cell_type": "markdown",
      "source": [
        "Hill climbing works in part by generating all neighbouring solutions to the current solution. Let’s create a function doing exactly that. A neighbouring solution is a solution that’s only slightly different from the current solution. Note also that a neighbour still needs to be a correct solution: every city still needs to be visited exactly once. We can accomplish both by creating a neighbour as follows: copy the current solution, and then make two cities swap places! This way, we create a slightly different solution that’s still correct. Since we want to create all neighbours to a solution, and need to make cities swap places, we need to create two for loops, one nested in the other, both iterating the current solution. Since swapping city A with city B is the same as swapping city B with city A, our second loop needs to only loop over those cities the first loop hasn’t looped over yet. Inside the second loop, we create our neighbour with the swapped cities and add it to our neighbours list."
      ],
      "metadata": {
        "id": "mwtamBMX4d1w"
      }
    },
    {
      "cell_type": "code",
      "source": [
        "def getNeighbours(solution):\n",
        "    neighbours = []\n",
        "    for i in range(len(solution)):\n",
        "        for j in range(i + 1, len(solution)):\n",
        "            neighbour = solution.copy()\n",
        "            neighbour[i] = solution[j]\n",
        "            neighbour[j] = solution[i]\n",
        "            neighbours.append(neighbour)\n",
        "    return neighbours\n"
      ],
      "metadata": {
        "id": "HzVCr0B672zq"
      },
      "execution_count": 5,
      "outputs": []
    },
    {
      "cell_type": "markdown",
      "source": [
        "### Create a function finding the best neighbour\n",
        "Now that we have a function generating all neighbours to a solution, it’s time we create one finding the best of these neighbours. This is a pretty straightforward function: it first sets the bestNeighbour to the first neighbour in the list of neighbours (and bestRouteLength to its route length), and then iterates over all neighbours; when a neighbour has a shorter route length, both bestNeighbour and bestRouteLength are updated. This way, the best neighbour is found:"
      ],
      "metadata": {
        "id": "8oKpxHNB4leY"
      }
    },
    {
      "cell_type": "code",
      "source": [
        "def getBestNeighbour(tsp, neighbours):\n",
        "    bestRouteLength = routeLength(tsp, neighbours[0])\n",
        "    bestNeighbour = neighbours[0]\n",
        "    for neighbour in neighbours:\n",
        "        currentRouteLength = routeLength(tsp, neighbour)\n",
        "        if currentRouteLength < bestRouteLength:\n",
        "            bestRouteLength = currentRouteLength\n",
        "            bestNeighbour = neighbour\n",
        "    return bestNeighbour, bestRouteLength"
      ],
      "metadata": {
        "id": "vqILoRQT4n9M"
      },
      "execution_count": 6,
      "outputs": []
    },
    {
      "cell_type": "markdown",
      "source": [
        "### It’s time for the core function! After creating the previous functions, this step has become quite easy:\n",
        "\n",
        "First, we make a random solution and calculate its route length. We then create the neighbouring solutions, and find the best one. From there on, as long as the best neighbour is better than the current solution, we repeat the same pattern with the current solution each time being updated with the best neighbour. When this process stops, we return the current solution (and its route length)."
      ],
      "metadata": {
        "id": "IQvnPgjb4t8I"
      }
    },
    {
      "cell_type": "code",
      "source": [
        "def hillClimbing(tsp):\n",
        "    currentSolution = randomSolution(tsp)\n",
        "    currentRouteLength = routeLength(tsp, currentSolution)\n",
        "    neighbours = getNeighbours(currentSolution)\n",
        "    bestNeighbour, bestNeighbourRouteLength = getBestNeighbour(tsp, neighbours)\n",
        "\n",
        "    while bestNeighbourRouteLength < currentRouteLength:\n",
        "        currentSolution = bestNeighbour\n",
        "        currentRouteLength = bestNeighbourRouteLength\n",
        "        neighbours = getNeighbours(currentSolution)\n",
        "        bestNeighbour, bestNeighbourRouteLength = getBestNeighbour(tsp, neighbours)\n",
        "\n",
        "    return currentSolution, currentRouteLength\n"
      ],
      "metadata": {
        "id": "H8CfHyN-4f7w"
      },
      "execution_count": 7,
      "outputs": []
    },
    {
      "cell_type": "code",
      "source": [
        "def main():\n",
        "    tsp = [\n",
        "        [0, 400, 500, 300],\n",
        "        [400, 0, 300, 500],\n",
        "        [500, 300, 0, 400],\n",
        "        [300, 500, 400, 0]\n",
        "    ]\n",
        "\n",
        "    print(hillClimbing(tsp))\n",
        "\n",
        "if __name__ == \"__main__\":\n",
        "    main()"
      ],
      "metadata": {
        "colab": {
          "base_uri": "https://localhost:8080/"
        },
        "id": "k0GzcwHc76ki",
        "outputId": "64e4051a-0163-46c6-bfe9-fffbb6a78db8"
      },
      "execution_count": 8,
      "outputs": [
        {
          "output_type": "stream",
          "name": "stdout",
          "text": [
            "([1, 2, 3, 0], 1400)\n"
          ]
        }
      ]
    },
    {
      "cell_type": "code",
      "source": [
        "def problemGenerator(nCities):\n",
        "    tsp = []\n",
        "    for i in range(nCities):\n",
        "        distances = []\n",
        "        for j in range(nCities):\n",
        "            if j == i:\n",
        "                distances.append(0)\n",
        "            elif j < i:\n",
        "                distances.append(tsp[j][i])\n",
        "            else:\n",
        "                distances.append(random.randint(10, 1000))\n",
        "        tsp.append(distances)\n",
        "    return tsp"
      ],
      "metadata": {
        "id": "Rl-TxyHq8H9Q"
      },
      "execution_count": 9,
      "outputs": []
    },
    {
      "cell_type": "code",
      "source": [
        "def main():\n",
        "    tsp = problemGenerator(10)\n",
        "    for i in range(10):\n",
        "        print(hillClimbing(tsp))\n",
        "main()"
      ],
      "metadata": {
        "colab": {
          "base_uri": "https://localhost:8080/"
        },
        "id": "4eQCt2J08Ldm",
        "outputId": "7f262618-9d3e-4f37-a2f3-827d5a25330b"
      },
      "execution_count": 13,
      "outputs": [
        {
          "output_type": "stream",
          "name": "stdout",
          "text": [
            "([8, 9, 1, 3, 6, 0, 2, 5, 4, 7], 2535)\n",
            "([9, 6, 1, 3, 8, 0, 2, 5, 4, 7], 2497)\n",
            "([8, 0, 2, 5, 4, 7, 9, 6, 1, 3], 2497)\n",
            "([0, 2, 5, 4, 7, 9, 8, 3, 1, 6], 2481)\n",
            "([1, 6, 9, 7, 4, 5, 2, 0, 8, 3], 2497)\n",
            "([7, 4, 5, 2, 0, 8, 3, 1, 6, 9], 2497)\n",
            "([1, 3, 8, 9, 7, 4, 5, 2, 0, 6], 2481)\n",
            "([2, 0, 7, 9, 6, 1, 3, 8, 4, 5], 2502)\n",
            "([8, 9, 1, 3, 6, 0, 2, 5, 4, 7], 2535)\n",
            "([8, 4, 6, 3, 1, 9, 7, 0, 2, 5], 2713)\n"
          ]
        }
      ]
    },
    {
      "cell_type": "markdown",
      "source": [
        "### Simuated Annealing Algorithm\n",
        "\n",
        "In simple terms, ‘Annealing’ is a technique, where a metal is heated to a high temperature and slowly cooled down to improve its physical properties. When the metal is hot, the molecules randomly re-arrange themselves at a rapid pace.\n",
        "\n",
        "As the metal starts to cool down, the re-arranging process occurs at a much slower rate. In the end, the resultant metal will be a desired workable metal. The factors of time and metal’s energy at a particular time will supervise the entire process."
      ],
      "metadata": {
        "id": "dS0rgeX2aJ81"
      }
    },
    {
      "cell_type": "code",
      "source": [
        "from numpy import asarray, exp\n",
        "from numpy.random import randn, rand, seed\n",
        "from matplotlib import pyplot"
      ],
      "metadata": {
        "id": "wtWN6sNDaJQN"
      },
      "execution_count": 14,
      "outputs": []
    },
    {
      "cell_type": "code",
      "source": [
        "# Objective function is the square of steps taken\n",
        "def objective(step):\n",
        "  return step[0] ** 2"
      ],
      "metadata": {
        "id": "5j7RuV7kb3FG"
      },
      "execution_count": 15,
      "outputs": []
    },
    {
      "cell_type": "markdown",
      "source": [
        "The below code cell gives us a random start point between the range of the area of the search space. Let’s also see the evaluation of this start_point."
      ],
      "metadata": {
        "id": "nrDf01qDcRJv"
      }
    },
    {
      "cell_type": "code",
      "source": [
        "seed(1)\n",
        "area = asarray([[-6.0, 6.0]])\n",
        "\n",
        "# area[:,0] = -6.0, area[:,1] = 6.0, ran(len(area))generates random number within the length of area.\n",
        "# length of interval is 1.\n",
        "\n",
        "start_point = area[:, 0] + rand( len( area ) ) * ( area[:, 1] - area[:, 0] )\n",
        "print(start_point)\n",
        "print('start_point=', start_point)\n",
        "print('objective function evaluation of start point=',objective(start_point))"
      ],
      "metadata": {
        "colab": {
          "base_uri": "https://localhost:8080/"
        },
        "id": "fb7badI5cAnb",
        "outputId": "3d8462fe-3086-40da-e615-33e038313eff"
      },
      "execution_count": 16,
      "outputs": [
        {
          "output_type": "stream",
          "name": "stdout",
          "text": [
            "[-0.99573594]\n",
            "start_point= [-0.99573594]\n",
            "objective function evaluation of start point= 0.9914900693154707\n"
          ]
        }
      ]
    },
    {
      "cell_type": "code",
      "source": [
        "# Define simulated annealing algorithm\n",
        "def simulated_annealing(objective, area, iterations, step_size, temperature):\n",
        "    # create initial point\n",
        "    start_point = area[:, 0] + rand( len( area ) ) * ( area[:, 1] - area[:, 0] )\n",
        "    # evaluate initial point\n",
        "    start_point_eval = objective(start_point)\n",
        "    # Assign previous and new solution to previous and new_point_eval variable\n",
        "    # Storing the start point and its objective function evaluation into mia_start_point and mia_start_eval.\n",
        "    mia_start_point, mia_start_eval = start_point, start_point_eval\n",
        "    # this empty list will get updated over time once looping starts.\n",
        "    outputs = []\n",
        "    # Looping from 0 to the iteration number we specify\n",
        "    for i in range(iterations):\n",
        "        # First step by mia this means the steps taken will be 3 * step_size of the current point.\n",
        "        '''This new point obtained must be checked whether it is better than the current point,\n",
        "        if it is better, then replace the current point with the new point.\n",
        "         Then append those new points into our outputs list. If the new point is better:\n",
        "        '''\n",
        "        mia_step = mia_start_point + randn( len( area ) ) * step_size\n",
        "        mia_step_eval = objective(mia_step)\n",
        "        ''' The new step is checked whether it is better than current step.\n",
        "         If better, the current point is replaced with new point.\n",
        "         '''\n",
        "        if mia_step_eval < start_point_eval:\n",
        "            start_point, start_point_eval = mia_step, mia_step_eval\n",
        "      #Append the new values into the output list\n",
        "            outputs.append(start_point_eval)\n",
        "            print('Acceptance Criteria = %.5f' % mac,\" \",'iteration Number = ',i,\" \", 'best_so_far = ',start_point,\" \"\n",
        "             ,'new_best = %.5f' % start_point_eval)\n",
        "        '''\n",
        "        difference gives us the difference between the old point and the new point\n",
        "        so that the acceptance probability/metropolis acceptance criterion can be calculated.\n",
        "         This helps in calculating the probability of accepting a point\n",
        "         with worse performance than the current point.\n",
        "\n",
        "         temperature = initial_temperature / (iteration_number + 1)\n",
        "\n",
        "        '''\n",
        "        difference = mia_step_eval - mia_start_eval\n",
        "        t = temperature / float(i + 1)\n",
        "        # calculate Metropolis Acceptance Criterion / Acceptance Probability\n",
        "        mac = exp(-difference / t)\n",
        "        '''\n",
        "        Then a random number is generated using rand()\n",
        "        and if the Random Number > Acceptance Probability then the new point will be Rejected\n",
        "        and if Random Number < Acceptance Probability then the new point will be Accepted.\n",
        "        '''\n",
        "        # check whether the new point is acceptable\n",
        "        if difference < 0 or rand() < mac:\n",
        "            mia_start_point, mia_start_eval = mia_step, mia_step_eval\n",
        "    # the returened of the function simulated_annealing\n",
        "    return [start_point, start_point_eval, outputs]\n"
      ],
      "metadata": {
        "id": "hchYuzukcZNU"
      },
      "execution_count": 21,
      "outputs": []
    },
    {
      "cell_type": "code",
      "source": [
        "seed(1)\n",
        "# define the area of the search space\n",
        "area = asarray([[-6.0, 6.0]])\n",
        "# initial temperature\n",
        "temperature = 12\n",
        "# define the total no. of iterations\n",
        "iterations = 1200\n",
        "# define maximum step_size\n",
        "step_size = 0.1\n",
        "# perform the simulated annealing search\n",
        "start_point, output, outputs = simulated_annealing(objective, area, iterations, step_size, temperature)\n",
        "#plotting the values\n",
        "pyplot.plot(outputs, 'ro-')\n",
        "pyplot.xlabel('Improvement Value')\n",
        "pyplot.ylabel('Evaluation of Objective Function')\n",
        "pyplot.show()"
      ],
      "metadata": {
        "colab": {
          "base_uri": "https://localhost:8080/",
          "height": 831
        },
        "id": "xRMfmBO6c-C_",
        "outputId": "b549bcbf-6e75-433e-f18a-c0ef7d132d88"
      },
      "execution_count": 19,
      "outputs": [
        {
          "output_type": "stream",
          "name": "stdout",
          "text": [
            "Acceptance Criteria = 0.76232   iteration Number =  37   best_so_far =  [-0.95340594]   new_best = 0.90898\n",
            "Acceptance Criteria = 0.87733   iteration Number =  39   best_so_far =  [-0.91563305]   new_best = 0.83838\n",
            "Acceptance Criteria = 1.44710   iteration Number =  40   best_so_far =  [-0.85680363]   new_best = 0.73411\n",
            "Acceptance Criteria = 1.42798   iteration Number =  41   best_so_far =  [-0.8221177]   new_best = 0.67588\n",
            "Acceptance Criteria = 1.22608   iteration Number =  42   best_so_far =  [-0.68541443]   new_best = 0.46979\n",
            "Acceptance Criteria = 2.09273   iteration Number =  43   best_so_far =  [-0.61804282]   new_best = 0.38198\n",
            "Acceptance Criteria = 1.16478   iteration Number =  50   best_so_far =  [-0.42564785]   new_best = 0.18118\n",
            "Acceptance Criteria = 0.81414   iteration Number =  66   best_so_far =  [-0.35632231]   new_best = 0.12697\n",
            "Acceptance Criteria = 1.74595   iteration Number =  67   best_so_far =  [-0.33780667]   new_best = 0.11411\n",
            "Acceptance Criteria = 1.02155   iteration Number =  72   best_so_far =  [-0.3368772]   new_best = 0.11349\n",
            "Acceptance Criteria = 1.20897   iteration Number =  75   best_so_far =  [-0.29671621]   new_best = 0.08804\n",
            "Acceptance Criteria = 1.47133   iteration Number =  88   best_so_far =  [-0.29346186]   new_best = 0.08612\n",
            "Acceptance Criteria = 1.78859   iteration Number =  89   best_so_far =  [-0.2525718]   new_best = 0.06379\n",
            "Acceptance Criteria = 0.29369   iteration Number =  93   best_so_far =  [-0.20893326]   new_best = 0.04365\n",
            "Acceptance Criteria = 1.68933   iteration Number =  94   best_so_far =  [-0.12724854]   new_best = 0.01619\n",
            "Acceptance Criteria = 1.24284   iteration Number =  95   best_so_far =  [-0.00883141]   new_best = 0.00008\n",
            "Acceptance Criteria = 0.99774   iteration Number =  102   best_so_far =  [0.00581387]   new_best = 0.00003\n",
            "Acceptance Criteria = 1.05301   iteration Number =  118   best_so_far =  [0.00137051]   new_best = 0.00000\n",
            "Acceptance Criteria = 0.99611   iteration Number =  138   best_so_far =  [0.0009528]   new_best = 0.00000\n",
            "Acceptance Criteria = 1.33458   iteration Number =  158   best_so_far =  [-0.00047896]   new_best = 0.00000\n",
            "Acceptance Criteria = 0.50157   iteration Number =  473   best_so_far =  [0.00045742]   new_best = 0.00000\n",
            "Acceptance Criteria = 1.02387   iteration Number =  482   best_so_far =  [0.00010925]   new_best = 0.00000\n"
          ]
        },
        {
          "output_type": "display_data",
          "data": {
            "text/plain": [
              "<Figure size 640x480 with 1 Axes>"
            ],
            "image/png": "[encoded data removed]"
          },
          "metadata": {}
        }
      ]
    },
    {
      "cell_type": "code",
      "source": [],
      "metadata": {
        "id": "R38chXC_c-jF"
      },
      "execution_count": null,
      "outputs": []
    }
  ]
}